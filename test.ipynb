{
 "cells": [
  {
   "cell_type": "code",
   "execution_count": 1,
   "metadata": {},
   "outputs": [
    {
     "ename": "ModuleNotFoundError",
     "evalue": "No module named 'qiskit_iqm'",
     "output_type": "error",
     "traceback": [
      "\u001b[1;31m---------------------------------------------------------------------------\u001b[0m",
      "\u001b[1;31mModuleNotFoundError\u001b[0m                       Traceback (most recent call last)",
      "Input \u001b[1;32mIn [1]\u001b[0m, in \u001b[0;36m<module>\u001b[1;34m\u001b[0m\n\u001b[0;32m      5\u001b[0m \u001b[38;5;28;01mfrom\u001b[39;00m \u001b[38;5;21;01mqiskit\u001b[39;00m\u001b[38;5;21;01m.\u001b[39;00m\u001b[38;5;21;01mtools\u001b[39;00m\u001b[38;5;21;01m.\u001b[39;00m\u001b[38;5;21;01mmonitor\u001b[39;00m \u001b[38;5;28;01mimport\u001b[39;00m job_monitor\n\u001b[0;32m      6\u001b[0m \u001b[38;5;28;01mfrom\u001b[39;00m \u001b[38;5;21;01mqiskit\u001b[39;00m\u001b[38;5;21;01m.\u001b[39;00m\u001b[38;5;21;01mvisualization\u001b[39;00m \u001b[38;5;28;01mimport\u001b[39;00m plot_histogram\n\u001b[1;32m----> 7\u001b[0m \u001b[38;5;28;01mfrom\u001b[39;00m \u001b[38;5;21;01mqiskit_iqm\u001b[39;00m \u001b[38;5;28;01mimport\u001b[39;00m IQMFakeAdonis\n\u001b[0;32m      9\u001b[0m circuit \u001b[38;5;241m=\u001b[39m QuantumCircuit(\u001b[38;5;241m2\u001b[39m, name\u001b[38;5;241m=\u001b[39m\u001b[38;5;124m'\u001b[39m\u001b[38;5;124mBell pair circuit\u001b[39m\u001b[38;5;124m'\u001b[39m)\n\u001b[0;32m     10\u001b[0m circuit\u001b[38;5;241m.\u001b[39mh(\u001b[38;5;241m0\u001b[39m)\n",
      "\u001b[1;31mModuleNotFoundError\u001b[0m: No module named 'qiskit_iqm'"
     ]
    }
   ],
   "source": [
    "import matplotlib.pyplot as plt\n",
    "#from qiskit_iqm import IQMProvider\n",
    "import networkx as nx\n",
    "from qiskit import QuantumCircuit, QuantumRegister, execute, transpile\n",
    "from qiskit.tools.monitor import job_monitor\n",
    "from qiskit.visualization import plot_histogram\n",
    "from qiskit_iqm import IQMFakeAdonis\n",
    "\n",
    "circuit = QuantumCircuit(2, name='Bell pair circuit')\n",
    "circuit.h(0)\n",
    "circuit.cx(0, 1)\n",
    "circuit.measure_all()\n",
    "circuit.draw(output='mpl')\n",
    "\n",
    "\n",
    "fake_backend = IQMFakeAdonis()\n",
    "job = execute(circuit, fake_backend, shots=1000)\n",
    "job.result().get_counts()"
   ]
  },
  {
   "cell_type": "code",
   "execution_count": null,
   "metadata": {},
   "outputs": [],
   "source": [
    "import os\n",
    "from qiskit import QuantumCircuit, execute\n",
    "from qiskit_iqm import IQMProvider\n",
    "\n",
    "#HELMI_CORTEX_URL = os.getenv('LEENA_CORTEX_URL')  # This is set when loading the module\n",
    "\n",
    "#provider = IQMProvider(\"https://qc.vtt.fi/leena/cocos\")\n",
    "#backend = provider.get_backend()\n",
    "\n",
    "shots = 1000  # Set the number of shots you wish to run with\n",
    "\n",
    "# Create your quantum circuit.\n",
    "# Here is an example\n",
    "circuit = QuantumCircuit(2, 2)\n",
    "circuit.h(0)\n",
    "circuit.cx(0, 1)\n",
    "circuit.measure_all()\n",
    "\n",
    "print(circuit.draw(output='text'))\n",
    "\n",
    "job = execute(circuit, backend, shots=shots)  # execute your quantum circuit\n",
    "counts = job.result().get_counts()\n",
    "print(counts)"
   ]
  }
 ],
 "metadata": {
  "kernelspec": {
   "display_name": "Python 3",
   "language": "python",
   "name": "python3"
  },
  "language_info": {
   "codemirror_mode": {
    "name": "ipython",
    "version": 3
   },
   "file_extension": ".py",
   "mimetype": "text/x-python",
   "name": "python",
   "nbconvert_exporter": "python",
   "pygments_lexer": "ipython3",
   "version": "3.10.8"
  }
 },
 "nbformat": 4,
 "nbformat_minor": 2
}
