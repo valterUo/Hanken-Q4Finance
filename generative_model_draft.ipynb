{
 "cells": [
  {
   "cell_type": "markdown",
   "metadata": {},
   "source": [
    "I'm working on implementing the generative model here"
   ]
  },
  {
   "cell_type": "code",
   "execution_count": 1,
   "metadata": {},
   "outputs": [],
   "source": [
    "import torch\n",
    "import pennylane as qml\n",
    "from itertools import combinations\n",
    "from time_series_utils import generate_normal_time_series_set, plot_series"
   ]
  },
  {
   "cell_type": "code",
   "execution_count": 2,
   "metadata": {},
   "outputs": [],
   "source": [
    "def D(gamma: torch.Tensor, start : int, stop : int, h: int = None, get_probs: bool = False) -> None:\n",
    "    \"\"\"Generates an n_qubit quantum circuit according to a h-local Walsh operator\n",
    "    expansion. Here, h-local means that 1 <= k <= n of the n qubits can interact.\n",
    "    See <https://doi.org/10.1088/1367-2630/16/3/033040> for more\n",
    "    details. Optionally return probabilities of bit strings.\n",
    "    \"\"\"\n",
    "    if h is None:\n",
    "        h = stop - start\n",
    "    cnt = 0\n",
    "    for i in range(1, h + 1):\n",
    "        for comb in combinations(range(start, stop), i):\n",
    "            if len(comb) == 1:\n",
    "                qml.RZ(gamma[cnt], wires=[comb[0]])\n",
    "                cnt += 1\n",
    "            elif len(comb) > 1:\n",
    "                cnots = [comb[i : i + 2] for i in range(len(comb) - 1)]\n",
    "                for j in cnots:\n",
    "                    qml.CNOT(wires=j)\n",
    "                qml.RZ(gamma[cnt], wires=[comb[-1]])\n",
    "                cnt += 1\n",
    "                for j in cnots[::-1]:\n",
    "                    qml.CNOT(wires=j)\n",
    "    if get_probs:\n",
    "        return qml.probs(wires=range(start, stop))"
   ]
  },
  {
   "cell_type": "code",
   "execution_count": 3,
   "metadata": {},
   "outputs": [],
   "source": [
    "from time_series_utils import apply_sax\n",
    "\n",
    "\n",
    "series_length = 5\n",
    "n_subspace_qubits = 2\n",
    "environment_qubits = n_subspace_qubits\n",
    "dev = qml.device(\"default.qubit\", wires= series_length*n_subspace_qubits + environment_qubits, shots=None)\n",
    "#X_norm, T_norm = generate_normal_time_series_set(25, 25, 0.1, 0.1, 2 * torch.pi)\n",
    "#plot_series(T_norm, X_norm)\n",
    "# Make time series discrete using SAX\n",
    "#discrete_X = apply_sax(X_norm, n_sax_symbols = 2**n_subspace_qubits)\n",
    "#discrete_T = apply_sax(T_norm, n_sax_symbols = 2**n_subspace_qubits)\n",
    "#plot_series(discrete_T, discrete_X)\n"
   ]
  },
  {
   "cell_type": "code",
   "execution_count": 4,
   "metadata": {},
   "outputs": [],
   "source": [
    "# Now X = (s_1, ..., s_m) where each s_i is a discrete time series\n",
    "# Depending on the discretization, we use x subspace qubits to encode space H_s_i\n",
    "@qml.qnode(dev, interface=\"torch\", diff_method=\"backprop\")\n",
    "def circuit(\n",
    "    X: torch.Tensor,\n",
    "    t: float,\n",
    "    n_subspace_qubits: int,\n",
    "    environment_qubits: int,\n",
    "    alpha: torch.Tensor,\n",
    "    gamma: torch.Tensor,\n",
    "    h: int,\n",
    "    W: callable,\n",
    "    D: callable,\n",
    "    n_qubits: int,\n",
    "    measurement: str\n",
    ") -> torch.Tensor:\n",
    "        \n",
    "    # Depending on the dimensionality of the input, \n",
    "    # we need to embed the time series data\n",
    "    # into different subspaces\n",
    "    for i, point in enumerate(X):\n",
    "        subspace = range(i*n_subspace_qubits, (i + 1)*n_subspace_qubits)\n",
    "        x_t = point[t]\n",
    "        qml.BasisEmbedding(x_t, wires=subspace)\n",
    "    \n",
    "        # These gates operate h-locally\n",
    "        # This means that each time series component corresponding\n",
    "        # a subspsace H_s_d is evolved with its own decomposition WDW^t\n",
    "    \n",
    "        W(alpha, wires=subspace)\n",
    "        D(gamma * t, i*n_subspace_qubits, (i + 1)*n_subspace_qubits, h)\n",
    "        qml.adjoint(W)(alpha, wires=subspace)\n",
    "    \n",
    "    # Finally, create environment subspace\n",
    "    e_subspace = range(n_qubits - environment_qubits, n_qubits)\n",
    "    W(alpha, wires=e_subspace)\n",
    "    D(gamma * t, n_qubits - environment_qubits, n_qubits, h)\n",
    "    qml.adjoint(W)(alpha, wires=e_subspace)\n",
    "    \n",
    "    if measurement == \"probs\":\n",
    "        return qml.probs(range(n_qubits))\n",
    "    elif measurement == \"density_matrix\":\n",
    "        return qml.density_matrix(range(n_qubits))\n",
    "    elif measurement == \"state\":\n",
    "        return qml.state()"
   ]
  },
  {
   "cell_type": "code",
   "execution_count": 5,
   "metadata": {},
   "outputs": [],
   "source": [
    "def quantum_transition_matrix(probs, n_subspace_qubits, dimension_of_time_series):\n",
    "    \"\"\"Computes the quantum transition matrix from the probability distribution\n",
    "    of the quantum state.\n",
    "    \"\"\"\n",
    "    subspace_probs = {}\n",
    "    for i in range(dimension_of_time_series):\n",
    "        subspace_probs[i] = probs[i*n_subspace_qubits:(i + 1)*n_subspace_qubits]\n",
    "    print(subspace_probs)\n",
    "    return subspace_probs"
   ]
  },
  {
   "cell_type": "code",
   "execution_count": 6,
   "metadata": {},
   "outputs": [],
   "source": [
    "def KL_divergence(p, q):\n",
    "    \"\"\"Computes the KL divergence between two probability distributions.\n",
    "    \"\"\"\n",
    "    if torch.all(q) == 0:\n",
    "        return 0\n",
    "    return torch.sum(p * torch.log(p / q))"
   ]
  },
  {
   "cell_type": "code",
   "execution_count": 7,
   "metadata": {},
   "outputs": [],
   "source": [
    "def total_KL_divergence(X, time_steps, classical_transition_matrix, quantum_transition_matrix):\n",
    "    total_kl_div = 0\n",
    "    for t in time_steps:\n",
    "        for d in range(len(X)):\n",
    "            total_kl_div += KL_divergence(classical_transition_matrix[t][d], quantum_transition_matrix[t][d])"
   ]
  },
  {
   "cell_type": "code",
   "execution_count": 8,
   "metadata": {},
   "outputs": [
    {
     "data": {
      "image/png": "[encoded data removed]",
      "text/plain": [
       "<Figure size 432x288 with 1 Axes>"
      ]
     },
     "metadata": {
      "needs_background": "light"
     },
     "output_type": "display_data"
    }
   ],
   "source": [
    "from time_series_utils import generate_synthetic_correlated_time_series\n",
    "import matplotlib.pyplot as plt\n",
    "import numpy as np\n",
    "\n",
    "X = generate_synthetic_correlated_time_series()\n",
    "# Plotting\n",
    "time = np.linspace(0, 1, 101)\n",
    "for i in range(2):\n",
    "    plt.plot(time, X[i], label=f'Component {i+1}')\n",
    "\n",
    "plt.xlabel('Time')\n",
    "plt.ylabel('X(t)')\n",
    "plt.title('Stochastic differential equation simulation')\n",
    "plt.legend()\n",
    "plt.show()"
   ]
  },
  {
   "cell_type": "code",
   "execution_count": 10,
   "metadata": {},
   "outputs": [
    {
     "name": "stdout",
     "output_type": "stream",
     "text": [
      "Sax time series: [[[0]\n",
      "  [1]\n",
      "  [2]\n",
      "  [2]]\n",
      "\n",
      " [[3]\n",
      "  [2]\n",
      "  [1]\n",
      "  [0]]]\n",
      "[[array(['0000'], dtype='<U4'), array(['0001'], dtype='<U4'), array(['0010'], dtype='<U4'), array(['0010'], dtype='<U4')], [array(['0011'], dtype='<U4'), array(['0010'], dtype='<U4'), array(['0001'], dtype='<U4'), array(['0000'], dtype='<U4')]]\n"
     ]
    },
    {
     "ename": "ValueError",
     "evalue": "Expected 2D array, got 1D array instead:\narray=[0.   0.01 0.02 0.03 0.04 0.05 0.06 0.07 0.08 0.09 0.1  0.11 0.12 0.13\n 0.14 0.15 0.16 0.17 0.18 0.19 0.2  0.21 0.22 0.23 0.24 0.25 0.26 0.27\n 0.28 0.29 0.3  0.31 0.32 0.33 0.34 0.35 0.36 0.37 0.38 0.39 0.4  0.41\n 0.42 0.43 0.44 0.45 0.46 0.47 0.48 0.49 0.5  0.51 0.52 0.53 0.54 0.55\n 0.56 0.57 0.58 0.59 0.6  0.61 0.62 0.63 0.64 0.65 0.66 0.67 0.68 0.69\n 0.7  0.71 0.72 0.73 0.74 0.75 0.76 0.77 0.78 0.79 0.8  0.81 0.82 0.83\n 0.84 0.85 0.86 0.87 0.88 0.89 0.9  0.91 0.92 0.93 0.94 0.95 0.96 0.97\n 0.98 0.99 1.  ].\nReshape your data either using array.reshape(-1, 1) if your data has a single feature or array.reshape(1, -1) if it contains a single sample.",
     "output_type": "error",
     "traceback": [
      "\u001b[1;31m---------------------------------------------------------------------------\u001b[0m",
      "\u001b[1;31mValueError\u001b[0m                                Traceback (most recent call last)",
      "Input \u001b[1;32mIn [10]\u001b[0m, in \u001b[0;36m<module>\u001b[1;34m\u001b[0m\n\u001b[0;32m      1\u001b[0m discrete_X \u001b[38;5;241m=\u001b[39m apply_sax(X, n_sax_symbols \u001b[38;5;241m=\u001b[39m \u001b[38;5;241m2\u001b[39m\u001b[38;5;241m*\u001b[39m\u001b[38;5;241m*\u001b[39mn_subspace_qubits)\n\u001b[0;32m      2\u001b[0m \u001b[38;5;28mprint\u001b[39m(discrete_X)\n\u001b[1;32m----> 3\u001b[0m discrete_T \u001b[38;5;241m=\u001b[39m \u001b[43mapply_sax\u001b[49m\u001b[43m(\u001b[49m\u001b[43mtime\u001b[49m\u001b[43m,\u001b[49m\u001b[43m \u001b[49m\u001b[43mn_sax_symbols\u001b[49m\u001b[43m \u001b[49m\u001b[38;5;241;43m=\u001b[39;49m\u001b[43m \u001b[49m\u001b[38;5;241;43m2\u001b[39;49m\u001b[38;5;241;43m*\u001b[39;49m\u001b[38;5;241;43m*\u001b[39;49m\u001b[43mn_subspace_qubits\u001b[49m\u001b[43m)\u001b[49m\n\u001b[0;32m      4\u001b[0m \u001b[38;5;28mprint\u001b[39m(discrete_T)\n",
      "File \u001b[1;32mc:\\Users\\valte\\OneDrive - University of Helsinki\\Desktop\\Hanken-Q4Finance\\time_series_utils.py:65\u001b[0m, in \u001b[0;36mapply_sax\u001b[1;34m(time_series, n_sax_symbols)\u001b[0m\n\u001b[0;32m     62\u001b[0m \u001b[38;5;28;01mdef\u001b[39;00m \u001b[38;5;21mapply_sax\u001b[39m(time_series, n_sax_symbols \u001b[38;5;241m=\u001b[39m \u001b[38;5;241m4\u001b[39m):\n\u001b[0;32m     63\u001b[0m     \u001b[38;5;66;03m# Normalize the time series\u001b[39;00m\n\u001b[0;32m     64\u001b[0m     scaler \u001b[38;5;241m=\u001b[39m TimeSeriesScalerMeanVariance()\n\u001b[1;32m---> 65\u001b[0m     time_series_scaled \u001b[38;5;241m=\u001b[39m \u001b[43mscaler\u001b[49m\u001b[38;5;241;43m.\u001b[39;49m\u001b[43mfit_transform\u001b[49m\u001b[43m(\u001b[49m\u001b[43mtime_series\u001b[49m\u001b[43m)\u001b[49m\n\u001b[0;32m     67\u001b[0m     \u001b[38;5;66;03m# Apply SAX with a larger alphabet size\u001b[39;00m\n\u001b[0;32m     68\u001b[0m     n_paa_segments \u001b[38;5;241m=\u001b[39m n_sax_symbols  \u001b[38;5;66;03m# Number of segments\u001b[39;00m\n",
      "File \u001b[1;32mc:\\Users\\valte\\AppData\\Local\\Programs\\Python\\Python310\\lib\\site-packages\\tslearn\\preprocessing\\preprocessing.py:270\u001b[0m, in \u001b[0;36mTimeSeriesScalerMeanVariance.fit_transform\u001b[1;34m(self, X, y, **kwargs)\u001b[0m\n\u001b[0;32m    257\u001b[0m \u001b[38;5;28;01mdef\u001b[39;00m \u001b[38;5;21mfit_transform\u001b[39m(\u001b[38;5;28mself\u001b[39m, X, y\u001b[38;5;241m=\u001b[39m\u001b[38;5;28;01mNone\u001b[39;00m, \u001b[38;5;241m*\u001b[39m\u001b[38;5;241m*\u001b[39mkwargs):\n\u001b[0;32m    258\u001b[0m     \u001b[38;5;124;03m\"\"\"Fit to data, then transform it.\u001b[39;00m\n\u001b[0;32m    259\u001b[0m \n\u001b[0;32m    260\u001b[0m \u001b[38;5;124;03m    Parameters\u001b[39;00m\n\u001b[1;32m   (...)\u001b[0m\n\u001b[0;32m    268\u001b[0m \u001b[38;5;124;03m        Resampled time series dataset.\u001b[39;00m\n\u001b[0;32m    269\u001b[0m \u001b[38;5;124;03m    \"\"\"\u001b[39;00m\n\u001b[1;32m--> 270\u001b[0m     \u001b[38;5;28;01mreturn\u001b[39;00m \u001b[38;5;28;43mself\u001b[39;49m\u001b[38;5;241;43m.\u001b[39;49m\u001b[43mfit\u001b[49m\u001b[43m(\u001b[49m\u001b[43mX\u001b[49m\u001b[43m)\u001b[49m\u001b[38;5;241m.\u001b[39mtransform(X)\n",
      "File \u001b[1;32mc:\\Users\\valte\\AppData\\Local\\Programs\\Python\\Python310\\lib\\site-packages\\tslearn\\preprocessing\\preprocessing.py:252\u001b[0m, in \u001b[0;36mTimeSeriesScalerMeanVariance.fit\u001b[1;34m(self, X, y, **kwargs)\u001b[0m\n\u001b[0;32m    239\u001b[0m \u001b[38;5;28;01mdef\u001b[39;00m \u001b[38;5;21mfit\u001b[39m(\u001b[38;5;28mself\u001b[39m, X, y\u001b[38;5;241m=\u001b[39m\u001b[38;5;28;01mNone\u001b[39;00m, \u001b[38;5;241m*\u001b[39m\u001b[38;5;241m*\u001b[39mkwargs):\n\u001b[0;32m    240\u001b[0m     \u001b[38;5;124;03m\"\"\"A dummy method such that it complies to the sklearn requirements.\u001b[39;00m\n\u001b[0;32m    241\u001b[0m \u001b[38;5;124;03m    Since this method is completely stateless, it just returns itself.\u001b[39;00m\n\u001b[0;32m    242\u001b[0m \n\u001b[1;32m   (...)\u001b[0m\n\u001b[0;32m    250\u001b[0m \u001b[38;5;124;03m    self\u001b[39;00m\n\u001b[0;32m    251\u001b[0m \u001b[38;5;124;03m    \"\"\"\u001b[39;00m\n\u001b[1;32m--> 252\u001b[0m     X \u001b[38;5;241m=\u001b[39m \u001b[43mcheck_array\u001b[49m\u001b[43m(\u001b[49m\u001b[43mX\u001b[49m\u001b[43m,\u001b[49m\u001b[43m \u001b[49m\u001b[43mallow_nd\u001b[49m\u001b[38;5;241;43m=\u001b[39;49m\u001b[38;5;28;43;01mTrue\u001b[39;49;00m\u001b[43m,\u001b[49m\u001b[43m \u001b[49m\u001b[43mforce_all_finite\u001b[49m\u001b[38;5;241;43m=\u001b[39;49m\u001b[38;5;28;43;01mFalse\u001b[39;49;00m\u001b[43m)\u001b[49m\n\u001b[0;32m    253\u001b[0m     X \u001b[38;5;241m=\u001b[39m to_time_series_dataset(X)\n\u001b[0;32m    254\u001b[0m     \u001b[38;5;28mself\u001b[39m\u001b[38;5;241m.\u001b[39m_X_fit_dims \u001b[38;5;241m=\u001b[39m X\u001b[38;5;241m.\u001b[39mshape\n",
      "File \u001b[1;32mc:\\Users\\valte\\AppData\\Local\\Programs\\Python\\Python310\\lib\\site-packages\\sklearn\\utils\\validation.py:879\u001b[0m, in \u001b[0;36mcheck_array\u001b[1;34m(array, accept_sparse, accept_large_sparse, dtype, order, copy, force_all_finite, ensure_2d, allow_nd, ensure_min_samples, ensure_min_features, estimator, input_name)\u001b[0m\n\u001b[0;32m    877\u001b[0m     \u001b[38;5;66;03m# If input is 1D raise error\u001b[39;00m\n\u001b[0;32m    878\u001b[0m     \u001b[38;5;28;01mif\u001b[39;00m array\u001b[38;5;241m.\u001b[39mndim \u001b[38;5;241m==\u001b[39m \u001b[38;5;241m1\u001b[39m:\n\u001b[1;32m--> 879\u001b[0m         \u001b[38;5;28;01mraise\u001b[39;00m \u001b[38;5;167;01mValueError\u001b[39;00m(\n\u001b[0;32m    880\u001b[0m             \u001b[38;5;124m\"\u001b[39m\u001b[38;5;124mExpected 2D array, got 1D array instead:\u001b[39m\u001b[38;5;130;01m\\n\u001b[39;00m\u001b[38;5;124marray=\u001b[39m\u001b[38;5;132;01m{}\u001b[39;00m\u001b[38;5;124m.\u001b[39m\u001b[38;5;130;01m\\n\u001b[39;00m\u001b[38;5;124m\"\u001b[39m\n\u001b[0;32m    881\u001b[0m             \u001b[38;5;124m\"\u001b[39m\u001b[38;5;124mReshape your data either using array.reshape(-1, 1) if \u001b[39m\u001b[38;5;124m\"\u001b[39m\n\u001b[0;32m    882\u001b[0m             \u001b[38;5;124m\"\u001b[39m\u001b[38;5;124myour data has a single feature or array.reshape(1, -1) \u001b[39m\u001b[38;5;124m\"\u001b[39m\n\u001b[0;32m    883\u001b[0m             \u001b[38;5;124m\"\u001b[39m\u001b[38;5;124mif it contains a single sample.\u001b[39m\u001b[38;5;124m\"\u001b[39m\u001b[38;5;241m.\u001b[39mformat(array)\n\u001b[0;32m    884\u001b[0m         )\n\u001b[0;32m    886\u001b[0m \u001b[38;5;28;01mif\u001b[39;00m dtype_numeric \u001b[38;5;129;01mand\u001b[39;00m array\u001b[38;5;241m.\u001b[39mdtype\u001b[38;5;241m.\u001b[39mkind \u001b[38;5;129;01min\u001b[39;00m \u001b[38;5;124m\"\u001b[39m\u001b[38;5;124mUSV\u001b[39m\u001b[38;5;124m\"\u001b[39m:\n\u001b[0;32m    887\u001b[0m     \u001b[38;5;28;01mraise\u001b[39;00m \u001b[38;5;167;01mValueError\u001b[39;00m(\n\u001b[0;32m    888\u001b[0m         \u001b[38;5;124m\"\u001b[39m\u001b[38;5;124mdtype=\u001b[39m\u001b[38;5;124m'\u001b[39m\u001b[38;5;124mnumeric\u001b[39m\u001b[38;5;124m'\u001b[39m\u001b[38;5;124m is not compatible with arrays of bytes/strings.\u001b[39m\u001b[38;5;124m\"\u001b[39m\n\u001b[0;32m    889\u001b[0m         \u001b[38;5;124m\"\u001b[39m\u001b[38;5;124mConvert your data to numeric values explicitly instead.\u001b[39m\u001b[38;5;124m\"\u001b[39m\n\u001b[0;32m    890\u001b[0m     )\n",
      "\u001b[1;31mValueError\u001b[0m: Expected 2D array, got 1D array instead:\narray=[0.   0.01 0.02 0.03 0.04 0.05 0.06 0.07 0.08 0.09 0.1  0.11 0.12 0.13\n 0.14 0.15 0.16 0.17 0.18 0.19 0.2  0.21 0.22 0.23 0.24 0.25 0.26 0.27\n 0.28 0.29 0.3  0.31 0.32 0.33 0.34 0.35 0.36 0.37 0.38 0.39 0.4  0.41\n 0.42 0.43 0.44 0.45 0.46 0.47 0.48 0.49 0.5  0.51 0.52 0.53 0.54 0.55\n 0.56 0.57 0.58 0.59 0.6  0.61 0.62 0.63 0.64 0.65 0.66 0.67 0.68 0.69\n 0.7  0.71 0.72 0.73 0.74 0.75 0.76 0.77 0.78 0.79 0.8  0.81 0.82 0.83\n 0.84 0.85 0.86 0.87 0.88 0.89 0.9  0.91 0.92 0.93 0.94 0.95 0.96 0.97\n 0.98 0.99 1.  ].\nReshape your data either using array.reshape(-1, 1) if your data has a single feature or array.reshape(1, -1) if it contains a single sample."
     ]
    }
   ],
   "source": [
    "discrete_X = apply_sax(X, n_sax_symbols = 2**n_subspace_qubits)\n",
    "print(discrete_X)\n"
   ]
  }
 ],
 "metadata": {
  "kernelspec": {
   "display_name": "Python 3",
   "language": "python",
   "name": "python3"
  },
  "language_info": {
   "codemirror_mode": {
    "name": "ipython",
    "version": 3
   },
   "file_extension": ".py",
   "mimetype": "text/x-python",
   "name": "python",
   "nbconvert_exporter": "python",
   "pygments_lexer": "ipython3",
   "version": "3.10.8"
  }
 },
 "nbformat": 4,
 "nbformat_minor": 2
}
