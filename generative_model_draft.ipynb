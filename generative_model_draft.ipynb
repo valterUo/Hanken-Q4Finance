{
 "cells": [
  {
   "cell_type": "markdown",
   "metadata": {},
   "source": [
    "I'm working on implementing the generative model here"
   ]
  },
  {
   "cell_type": "code",
   "execution_count": 1,
   "metadata": {},
   "outputs": [],
   "source": [
    "import torch\n",
    "import pennylane as qml\n",
    "from itertools import combinations\n",
    "import matplotlib.pyplot as plt\n",
    "from time_series_utils import generate_normal_time_series_set, plot_series"
   ]
  },
  {
   "cell_type": "code",
   "execution_count": 2,
   "metadata": {},
   "outputs": [],
   "source": [
    "def D(gamma: torch.Tensor, n_qubits: int, k: int = None, get_probs: bool = False) -> None:\n",
    "    \"\"\"Generates an n_qubit quantum circuit according to a k-local Walsh operator\n",
    "    expansion. Here, k-local means that 1 <= k <= n of the n qubits can interact.\n",
    "    See <https://doi.org/10.1088/1367-2630/16/3/033040> for more\n",
    "    details. Optionally return probabilities of bit strings.\n",
    "    \"\"\"\n",
    "    if k is None:\n",
    "        k = n_qubits\n",
    "    cnt = 0\n",
    "    for i in range(1, k + 1):\n",
    "        for comb in combinations(range(n_qubits), i):\n",
    "            if len(comb) == 1:\n",
    "                qml.RZ(gamma[cnt], wires=[comb[0]])\n",
    "                cnt += 1\n",
    "            elif len(comb) > 1:\n",
    "                cnots = [comb[i : i + 2] for i in range(len(comb) - 1)]\n",
    "                for j in cnots:\n",
    "                    qml.CNOT(wires=j)\n",
    "                qml.RZ(gamma[cnt], wires=[comb[-1]])\n",
    "                cnt += 1\n",
    "                for j in cnots[::-1]:\n",
    "                    qml.CNOT(wires=j)\n",
    "    if get_probs:\n",
    "        return qml.probs(wires=range(n_qubits))"
   ]
  },
  {
   "cell_type": "code",
   "execution_count": 3,
   "metadata": {},
   "outputs": [
    {
     "data": {
      "image/png": "[encoded data removed]",
      "text/plain": [
       "<Figure size 432x288 with 1 Axes>"
      ]
     },
     "metadata": {
      "needs_background": "light"
     },
     "output_type": "display_data"
    }
   ],
   "source": [
    "series_length = 5\n",
    "n_qubits = series_length\n",
    "dev = qml.device(\"default.qubit\", wires=n_qubits, shots=None)\n",
    "X_norm, T_norm = generate_normal_time_series_set(25, 25, 0.1, 0.1, 2 * torch.pi)\n",
    "plot_series(T_norm, X_norm)\n",
    "# Make time series discrete using SAX\n"
   ]
  },
  {
   "cell_type": "code",
   "execution_count": null,
   "metadata": {},
   "outputs": [],
   "source": [
    "@qml.qnode(dev, interface=\"torch\", diff_method=\"backprop\")\n",
    "def circuit(\n",
    "    xt: torch.Tensor,\n",
    "    t: float,\n",
    "    alpha: torch.Tensor,\n",
    "    gamma: torch.Tensor,\n",
    "    k: int,\n",
    "    W: callable,\n",
    "    D: callable,\n",
    "    n_qubits: int,\n",
    "    measurement: str\n",
    ") -> torch.Tensor:\n",
    "    \"\"\"Measure the probabilities for measuring each bitstring after applying a\n",
    "    circuit of the form W†DWU to the |0⟩^(⊗n) state. This\n",
    "    function is defined for individual sequence elements xt.\n",
    "    \"\"\"\n",
    "    #qml.AngleEmbedding(xt, wires=range(n_qubits))\n",
    "    \n",
    "    # Depending on the dimensionality of the input, \n",
    "    # we need to embed the time series data\n",
    "    # into different subspace\n",
    "    for i, point in enumerate(xt):\n",
    "        qml.BasisEmbedding(point, wires=[i])\n",
    "    \n",
    "    # These gates operate on the entire circuit: both system and evironment\n",
    "    W(alpha, wires=range(n_qubits))\n",
    "    D(gamma * t, n_qubits, k)\n",
    "    qml.adjoint(W)(alpha, wires=range(n_qubits))\n",
    "    \n",
    "    if measurement == \"probs\":\n",
    "        return qml.probs(range(n_qubits))\n",
    "    elif measurement == \"density_matrix\":\n",
    "        return qml.density_matrix(range(n_qubits))\n",
    "    elif measurement == \"state\":\n",
    "        return qml.state()"
   ]
  },
  {
   "cell_type": "code",
   "execution_count": null,
   "metadata": {},
   "outputs": [],
   "source": [
    "def expectation_value(\n",
    "    circuit: callable,\n",
    "    xt: torch.Tensor,\n",
    "    t: float,\n",
    "    alpha: torch.Tensor,\n",
    "    mu: torch.Tensor,\n",
    "    sigma: torch.Tensor,\n",
    "    gamma_length: int,\n",
    "    projector: int,\n",
    "    n_samples: int,\n",
    "    k: int,\n",
    "    U: callable,\n",
    "    W: callable,\n",
    ") -> torch.Tensor:\n",
    "    gammas = sigma.abs() * torch.randn((n_samples, gamma_length)) + mu\n",
    "    expectation = torch.empty(n_samples)\n",
    "    for i, gamma in enumerate(gammas):\n",
    "        expectation[i] = circuit(xt, t, alpha, gamma, k, U, W, D, n_qubits)[projector] #callable_proj(xt, t, alpha, gamma)\n",
    "    return expectation.mean()"
   ]
  },
  {
   "cell_type": "code",
   "execution_count": null,
   "metadata": {},
   "outputs": [],
   "source": []
  }
 ],
 "metadata": {
  "kernelspec": {
   "display_name": "Python 3",
   "language": "python",
   "name": "python3"
  },
  "language_info": {
   "codemirror_mode": {
    "name": "ipython",
    "version": 3
   },
   "file_extension": ".py",
   "mimetype": "text/x-python",
   "name": "python",
   "nbconvert_exporter": "python",
   "pygments_lexer": "ipython3",
   "version": "3.10.8"
  }
 },
 "nbformat": 4,
 "nbformat_minor": 2
}
